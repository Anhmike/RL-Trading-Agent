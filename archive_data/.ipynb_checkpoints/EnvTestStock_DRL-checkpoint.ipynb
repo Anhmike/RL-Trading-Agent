{
 "cells": [
  {
   "cell_type": "code",
   "execution_count": 1,
   "metadata": {},
   "outputs": [],
   "source": [
    "import pyfolio as pf\n",
    "import json\n",
    "%matplotlib inline\n",
    "from tqdm import tqdm_notebook\n",
    "import matplotlib.pyplot as plt\n",
    "import seaborn as sns\n",
    "%matplotlib inline\n",
    "%reload_ext autoreload\n",
    "%autoreload 2"
   ]
  },
  {
   "cell_type": "code",
   "execution_count": 2,
   "metadata": {},
   "outputs": [],
   "source": [
    "API_KEY=\"zT9RMFA8ajPq9RCvWTuu\""
   ]
  },
  {
   "cell_type": "code",
   "execution_count": 3,
   "metadata": {},
   "outputs": [],
   "source": [
    "# -*- coding:utf-8 -*-\n",
    "import quandl\n",
    "import pandas as pd\n",
    "import talib\n",
    "import numpy as np\n",
    "import os\n",
    "\n",
    "\n",
    "class StockEnv(object):\n",
    "    def __init__(self, instruments,\n",
    "                 api_key,\n",
    "                 capital_base=1e5,\n",
    "                 start_date='2002-01-01',\n",
    "                 end_date=None,\n",
    "                 data_local_path='./data',\n",
    "                 re_download=True,\n",
    "                 commission_fee=5e-3,\n",
    "                 normalize_length=10\n",
    "                 ):\n",
    "        self.api_key = api_key\n",
    "        quandl.ApiConfig.api_key = self.api_key\n",
    "        self.instruments = instruments\n",
    "        self.capital_base = capital_base\n",
    "        self.commission_fee = commission_fee\n",
    "        self.normalize_length = normalize_length\n",
    "        self.start_date = start_date\n",
    "        self.end_date = end_date\n",
    "        self.data_local_path = data_local_path\n",
    "        self.preprocessed_market_data, self.cleaned_market_data = self._init_market_data(re_download=re_download)\n",
    "        self.pointer = normalize_length - 1\n",
    "        self.done = (self.pointer == (self.preprocessed_market_data.shape[1] - 1))\n",
    "\n",
    "        self.current_position = np.zeros(len(self.instruments))\n",
    "        self.current_portfolio_value = np.concatenate((np.zeros(len(self.instruments)), [self.capital_base]))\n",
    "        self.current_weight = np.concatenate((np.zeros(len(self.instruments)), [1.]))\n",
    "        self.current_date = self.preprocessed_market_data.major_axis[self.pointer]\n",
    "\n",
    "        self.portfolio_values = []\n",
    "        self.positions = []\n",
    "        self.weights = []\n",
    "        self.trade_dates = []\n",
    "\n",
    "    def reset(self):\n",
    "        self.pointer = self.normalize_length\n",
    "        self.current_position = np.zeros(len(self.instruments))\n",
    "        self.current_portfolio_value = np.concatenate((np.zeros(len(self.instruments)), [self.capital_base]))\n",
    "        self.current_weight = np.concatenate((np.zeros(len(self.instruments)), [1.]))\n",
    "        self.current_date = self.preprocessed_market_data.major_axis[self.pointer]\n",
    "        self.done = (self.pointer == (self.preprocessed_market_data.shape[1] - 1))\n",
    "\n",
    "        self.portfolio_values = []\n",
    "        self.positions = []\n",
    "        self.weights = []\n",
    "        self.trade_dates = []\n",
    "\n",
    "        return self._get_normalized_state(), self.done\n",
    "\n",
    "    def step(self, action):\n",
    "        assert action.shape[0] == len(self.instruments) + 1\n",
    "        assert np.sum(action) <= 1 + 1e5\n",
    "        current_price = self.cleaned_market_data[:, :, 'adj_close'].iloc[self.pointer].values\n",
    "        self._rebalance(action=action, current_price=current_price)\n",
    "\n",
    "        self.pointer += 1\n",
    "        self.done = (self.pointer == (self.preprocessed_market_data.shape[1] - 1))\n",
    "        next_price = self.cleaned_market_data[:, :, 'adj_close'].iloc[self.pointer].values\n",
    "        reward = self._get_reward(current_price=current_price, next_price=next_price)\n",
    "        state = self._get_normalized_state()\n",
    "        return state, reward, self.done\n",
    "\n",
    "    def _rebalance(self, action, current_price):\n",
    "        target_weight = action\n",
    "        target_value = np.sum(self.current_portfolio_value) * target_weight\n",
    "        target_position = target_value[:-1] / current_price\n",
    "        trade_amount = target_position - self.current_position\n",
    "        commission_cost = np.sum(self.commission_fee * np.abs(trade_amount) * current_price)\n",
    "\n",
    "        self.current_position = target_position\n",
    "        self.current_portfolio_value = target_value - commission_cost\n",
    "        self.current_weight = target_weight\n",
    "        self.current_date = self.preprocessed_market_data.major_axis[self.pointer]\n",
    "\n",
    "        self.positions.append(self.current_position.copy())\n",
    "        self.weights.append(self.current_weight.copy())\n",
    "        self.portfolio_values.append(self.current_portfolio_value.copy())\n",
    "        self.trade_dates.append(self.current_date)\n",
    "\n",
    "    def _get_normalized_state(self):\n",
    "        data = self.preprocessed_market_data.iloc[:, self.pointer + 1 - self.normalize_length:self.pointer + 1, :].values\n",
    "        state = ((data - np.mean(data, axis=1, keepdims=True)) / (np.std(data, axis=1, keepdims=True) + 1e-5))[:, -1, :]\n",
    "        return np.concatenate((state, self.current_weight[:-1][:, None]), axis=1)\n",
    "\n",
    "    def get_meta_state(self):\n",
    "        return self.preprocessed_market_data.iloc[:, self.pointer, :]\n",
    "\n",
    "    def _get_reward(self, current_price, next_price):\n",
    "        return_rate = (next_price / current_price)\n",
    "        log_return = np.log(return_rate)\n",
    "        last_weight = self.current_weight.copy()\n",
    "        securities_value = self.current_portfolio_value[:-1] * return_rate\n",
    "        self.current_portfolio_value[:-1] = securities_value\n",
    "        self.current_weight = self.current_portfolio_value / np.sum(self.current_portfolio_value)\n",
    "        reward = last_weight[:-1] * log_return\n",
    "        return reward\n",
    "\n",
    "    def _init_market_data(self, data_name='market_data.pkl', pre_process=True, re_download=False):\n",
    "        data_path = self.data_local_path + '/' + data_name\n",
    "        if not os.path.exists(data_path) or re_download:\n",
    "            print('Start to download market data')\n",
    "            stocks = quandl.get_table('WIKI/PRICES', ticker=self.instruments,\n",
    "                                      qopts={'columns': ['ticker', 'date', 'adj_open', 'adj_close', 'adj_high', 'adj_low', 'adj_volume']},\n",
    "                                      date={'gte': self.start_date, 'lte': self.end_date}, paginate=True)\n",
    "            stock_groups = stocks.groupby('ticker')\n",
    "            stocks = {}\n",
    "            for k in stock_groups.groups.keys():\n",
    "                group = stock_groups.get_group(k)\n",
    "                group.index = group.date\n",
    "                stocks[k] = group[['adj_open', 'adj_close', 'adj_high', 'adj_low', 'adj_volume']]\n",
    "            market_data = pd.Panel(stocks).fillna(method='ffill').fillna(method='bfill').to_frame()\n",
    "            market_data.to_pickle(data_path)\n",
    "            print('Done')\n",
    "        else:\n",
    "            print('market data exist, loading')\n",
    "            market_data = pd.read_pickle(data_path).fillna(method='ffill').fillna(method='bfill')\n",
    "        if pre_process:\n",
    "            processed_market_data, cleaned_market_data = StockEnv._pre_process(market_data, open_c='adj_open', close_c='adj_close', high_c='adj_high', low_c='adj_low', volume_c='adj_volume')\n",
    "        assert np.sum(np.isnan(processed_market_data.values)) == 0\n",
    "        assert np.sum(np.isnan(cleaned_market_data.values)) == 0\n",
    "        return processed_market_data, cleaned_market_data\n",
    "\n",
    "    def get_summary(self):\n",
    "        portfolio_value_df = pd.DataFrame(np.array(self.portfolio_values), index=np.array(self.trade_dates), columns=self.instruments + ['cash'])\n",
    "        positions_df = pd.DataFrame(np.array(self.positions), index=np.array(self.trade_dates), columns=self.instruments)\n",
    "        weights_df = pd.DataFrame(np.array(self.weights), index=np.array(self.trade_dates), columns=self.instruments + ['cash'])\n",
    "        return portfolio_value_df, positions_df, weights_df\n",
    "\n",
    "    @staticmethod\n",
    "    def _pre_process(market_data, open_c, high_c, low_c, close_c, volume_c):\n",
    "        preprocessed_data = {}\n",
    "        cleaned_data = {}\n",
    "        print(market_data.items)\n",
    "        print(type(market_data))\n",
    "#         print(market_data.items())\n",
    "#         print(type(market_data))\n",
    "        for c in market_data.items:\n",
    "            \n",
    "            columns = [open_c, close_c, high_c, low_c, volume_c]\n",
    "            security = market_data[c, :, columns].fillna(method='ffill').fillna(method='bfill')\n",
    "            security[volume_c] = security[volume_c].replace(0, np.nan).fillna(method='ffill')\n",
    "            cleaned_data[c] = security.copy()\n",
    "            tech_data = StockEnv._get_indicators(security=security.astype(float), open_name=open_c, close_name=close_c, high_name=high_c, low_name=low_c, volume_name=volume_c)\n",
    "            preprocessed_data[c] = tech_data\n",
    "        preprocessed_data = pd.Panel(preprocessed_data).dropna()\n",
    "        cleaned_data = pd.Panel(cleaned_data)[:, preprocessed_data.major_axis, :].dropna()\n",
    "        return preprocessed_data, cleaned_data\n",
    "\n",
    "    @staticmethod\n",
    "    def _get_indicators(security, open_name, close_name, high_name, low_name, volume_name):\n",
    "        open_price = security[open_name].values\n",
    "        close_price = security[close_name].values\n",
    "        low_price = security[low_name].values\n",
    "        high_price = security[high_name].values\n",
    "        volume = security[volume_name].values if volume_name else None\n",
    "        security['MOM'] = talib.MOM(close_price)\n",
    "        security['HT_DCPERIOD'] = talib.HT_DCPERIOD(close_price)\n",
    "        security['HT_DCPHASE'] = talib.HT_DCPHASE(close_price)\n",
    "        security['SINE'], security['LEADSINE'] = talib.HT_SINE(close_price)\n",
    "        security['INPHASE'], security['QUADRATURE'] = talib.HT_PHASOR(close_price)\n",
    "        security['ADXR'] = talib.ADXR(high_price, low_price, close_price)\n",
    "        security['APO'] = talib.APO(close_price)\n",
    "        security['AROON_UP'], _ = talib.AROON(high_price, low_price)\n",
    "        security['CCI'] = talib.CCI(high_price, low_price, close_price)\n",
    "        security['PLUS_DI'] = talib.PLUS_DI(high_price, low_price, close_price)\n",
    "        security['PPO'] = talib.PPO(close_price)\n",
    "        security['MACD'], security['MACD_SIG'], security['MACD_HIST'] = talib.MACD(close_price)\n",
    "        security['CMO'] = talib.CMO(close_price)\n",
    "        security['ROCP'] = talib.ROCP(close_price)\n",
    "        security['FASTK'], security['FASTD'] = talib.STOCHF(high_price, low_price, close_price)\n",
    "        security['TRIX'] = talib.TRIX(close_price)\n",
    "        security['ULTOSC'] = talib.ULTOSC(high_price, low_price, close_price)\n",
    "        security['WILLR'] = talib.WILLR(high_price, low_price, close_price)\n",
    "        security['NATR'] = talib.NATR(high_price, low_price, close_price)\n",
    "        security['RSI'] = talib.RSI(close_price)\n",
    "        security['EMA'] = talib.EMA(close_price)\n",
    "        security['SAREXT'] = talib.SAREXT(high_price, low_price)\n",
    "        # security['TEMA'] = talib.EMA(close_price)\n",
    "        security['RR'] = security[close_name] / security[close_name].shift(1).fillna(1)\n",
    "        security['LOG_RR'] = np.log(security['RR'])\n",
    "        if volume_name:\n",
    "            security['MFI'] = talib.MFI(high_price, low_price, close_price, volume)\n",
    "            # security['AD'] = talib.AD(high_price, low_price, close_price, volume)\n",
    "            # security['OBV'] = talib.OBV(close_price, volume)\n",
    "            security[volume_name] = np.log(security[volume_name])\n",
    "        security.drop([open_name, close_name, high_name, low_name], axis=1)\n",
    "        security = security.dropna().astype(np.float32)\n",
    "        return security\n"
   ]
  },
  {
   "cell_type": "code",
   "execution_count": 4,
   "metadata": {},
   "outputs": [],
   "source": [
    "# -*- coding:utf-8 -*-\n",
    "from abc import abstractmethod\n",
    "\n",
    "\n",
    "class Agent(object):\n",
    "    def __init__(self):\n",
    "        pass\n",
    "    \n",
    "    @abstractmethod\n",
    "    def trade(self, state):\n",
    "        pass\n",
    "    \n",
    "    def train(self):\n",
    "        pass\n",
    "    \n",
    "    @abstractmethod\n",
    "    def load_model(self, model_path):\n",
    "        pass\n",
    "    \n",
    "    @abstractmethod\n",
    "    def save_model(self, model_path):\n",
    "        pass"
   ]
  },
  {
   "cell_type": "code",
   "execution_count": 6,
   "metadata": {},
   "outputs": [],
   "source": [
    "# -*- coding:utf-8 -*-\n",
    "from agents.agent import Agent\n",
    "import torch\n",
    "import torch.nn as nn\n",
    "import torch.optim as optim\n",
    "import numpy as np\n",
    "import os\n",
    "\n",
    "\n",
    "class Actor(nn.Module):\n",
    "    def __init__(self, s_dim, b_dim, rnn_layers=1, dp=0.2):\n",
    "        super(Actor, self).__init__()\n",
    "        self.s_dim = s_dim\n",
    "        self.b_dim = b_dim\n",
    "        self.rnn_layers = rnn_layers\n",
    "        self.gru = nn.GRU(self.s_dim, 128, self.rnn_layers, batch_first=True)\n",
    "        self.fc_policy_1 = nn.Linear(128, 128)\n",
    "        self.fc_policy_2 = nn.Linear(128, 64)\n",
    "        self.fc_policy_out = nn.Linear(64, 1)\n",
    "        self.fc_cash_out = nn.Linear(64, 1)\n",
    "        self.relu = nn.ReLU()\n",
    "        self.tanh = nn.Tanh()\n",
    "        self.dropout = nn.Dropout(p=dp)\n",
    "        self.softmax = nn.Softmax()\n",
    "        self.sigmoid = nn.Sigmoid()\n",
    "        self.initial_hidden = torch.zeros(self.rnn_layers, self.b_dim, 128, dtype=torch.float32)\n",
    "\n",
    "    def forward(self, state, hidden=None, train=False):\n",
    "        state, h = self.gru(state, hidden)\n",
    "        if train:\n",
    "            state = self.dropout(state)\n",
    "        state = self.relu(self.fc_policy_1(state))\n",
    "        state = self.relu(self.fc_policy_2(state))\n",
    "        cash = self.sigmoid(self.fc_cash_out(state))\n",
    "        action = self.sigmoid(self.fc_policy_out(state)).squeeze(-1).t()\n",
    "        cash = cash.mean(dim=0)\n",
    "        action = torch.cat(((1 - cash) * action, cash), dim=-1)\n",
    "        action = action / (action.sum(dim=-1, keepdim=True) + 1e-10)\n",
    "        return action, h.data\n",
    "\n",
    "\n",
    "class DRLAgent(Agent):\n",
    "    def __init__(self, s_dim, b_dim, batch_length=64, learning_rate=1e-3, rnn_layers=1):\n",
    "        super().__init__()\n",
    "        self.s_dim = s_dim\n",
    "        self.b_dim = b_dim\n",
    "        self.batch_length = batch_length\n",
    "        self.pointer = 0\n",
    "        self.s_buffer = []\n",
    "        self.d_buffer = []\n",
    "\n",
    "        self.train_hidden = None\n",
    "        self.trade_hidden = None\n",
    "        self.actor = Actor(s_dim=self.s_dim, b_dim=self.b_dim, rnn_layers=rnn_layers)\n",
    "        self.optimizer = optim.Adam(self.actor.parameters(), lr=learning_rate)\n",
    "\n",
    "    def _trade(self, state, train=False):\n",
    "        with torch.no_grad():\n",
    "            a, self.trade_hidden = self.actor(state[:, None, :], self.trade_hidden, train=False)\n",
    "        return a\n",
    "\n",
    "    def trade(self, state, train=False):\n",
    "        state_ = torch.tensor(state, dtype=torch.float32)\n",
    "        action = self._trade(state_, train=train)\n",
    "        return action.numpy().flatten()\n",
    "\n",
    "    def train(self):\n",
    "        self.optimizer.zero_grad()\n",
    "#         print(type(self.s_buffer))\n",
    "#         print(self.s_buffer[1].shape)\n",
    "#         print(len(self.s_buffer))\n",
    "#         print(self.s_buffer)\n",
    "        s = torch.stack(self.s_buffer).permute(1,0,2)\n",
    "#         print(s.size())\n",
    "        d = torch.stack(self.d_buffer)\n",
    "#         print(\"----------------------------------------------\")\n",
    "#         print(self.d_buffer)\n",
    "#         print(d.size())\n",
    "        a_hat, self.train_hidden = self.actor(s, self.train_hidden, train=True)\n",
    "        reward = -(a_hat[:, :-1] * d).mean()\n",
    "        reward.backward()\n",
    "        for param in self.actor.parameters():\n",
    "            param.grad.data.clamp_(-1, 1)\n",
    "        self.optimizer.step()\n",
    "\n",
    "    def reset_model(self):\n",
    "        self.s_buffer = []\n",
    "        self.d_buffer = []\n",
    "        self.trade_hidden = None\n",
    "        self.train_hidden = None\n",
    "        self.pointer = 0\n",
    "\n",
    "    def save_transition(self, state, diff):\n",
    "        if self.pointer < self.batch_length:\n",
    "            self.s_buffer.append(torch.tensor(state, dtype=torch.float32))\n",
    "            self.d_buffer.append(torch.tensor(diff, dtype=torch.float32))\n",
    "            self.pointer += 1\n",
    "        else:\n",
    "            self.s_buffer.pop(0)\n",
    "            self.d_buffer.pop(0)\n",
    "            self.s_buffer.append(torch.tensor(state, dtype=torch.float32))\n",
    "            self.d_buffer.append(torch.tensor(diff, dtype=torch.float32))\n",
    "\n",
    "    def load_model(self, model_path='./DRL_Torch'):\n",
    "        self.actor = torch.load(model_path + '/model.pkl')\n",
    "\n",
    "    def save_model(self, model_path='./DRL_Torch'):\n",
    "        if not os.path.exists(model_path):\n",
    "            os.mkdir(model_path)\n",
    "        torch.save(self.actor, model_path + '/model.pkl')\n"
   ]
  },
  {
   "cell_type": "code",
   "execution_count": 7,
   "metadata": {},
   "outputs": [
    {
     "name": "stdout",
     "output_type": "stream",
     "text": [
      "<class 'pandas.core.panel.Panel'>\n",
      "Dimensions: 6 (items) x 234644 (major_axis) x 5 (minor_axis)\n",
      "Items axis: TCEHY to CNOOC\n",
      "Major_axis axis: 2015-01-02 09:21:00 to 2017-12-29 16:00:00\n",
      "Minor_axis axis: adj_open to adj_volume\n",
      "Index(['TCEHY', 'HSBC', 'HSE', 'AIA', 'BOC', 'CNOOC'], dtype='object')\n"
     ]
    }
   ],
   "source": [
    "import pickle\n",
    "\n",
    "with open(r\"./data/market_data.pkl\", \"rb\") as input_file:\n",
    "    mdata = pickle.load(input_file)\n",
    "print(mdata)\n",
    "print(mdata.items)"
   ]
  },
  {
   "cell_type": "code",
   "execution_count": 8,
   "metadata": {},
   "outputs": [
    {
     "name": "stdout",
     "output_type": "stream",
     "text": [
      "market data exist, loading\n"
     ]
    },
    {
     "name": "stderr",
     "output_type": "stream",
     "text": [
      "/home/asus/miniconda3/envs/urop3.6/lib/python3.6/site-packages/pandas/core/generic.py:5382: FutureWarning: \n",
      "Panel is deprecated and will be removed in a future version.\n",
      "The recommended way to represent these types of 3-dimensional data are with a MultiIndex on a DataFrame, via the Panel.to_frame() method\n",
      "Alternatively, you can use the xarray package http://xarray.pydata.org/en/stable/.\n",
      "Pandas provides a `.to_xarray()` method to help automate this conversion.\n",
      "\n",
      "  from_dict(result).__finalize__(self)\n",
      "/home/asus/miniconda3/envs/urop3.6/lib/python3.6/site-packages/pandas/core/panel.py:1276: FutureWarning: \n",
      "Panel is deprecated and will be removed in a future version.\n",
      "The recommended way to represent these types of 3-dimensional data are with a MultiIndex on a DataFrame, via the Panel.to_frame() method\n",
      "Alternatively, you can use the xarray package http://xarray.pydata.org/en/stable/.\n",
      "Pandas provides a `.to_xarray()` method to help automate this conversion.\n",
      "\n",
      "  downcast=downcast, **kwargs)\n"
     ]
    },
    {
     "name": "stdout",
     "output_type": "stream",
     "text": [
      "Index(['AIA', 'BOC', 'CNOOC', 'HSBC', 'HSE', 'TCEHY'], dtype='object')\n",
      "<class 'pandas.core.panel.Panel'>\n"
     ]
    },
    {
     "name": "stderr",
     "output_type": "stream",
     "text": [
      "/home/asus/miniconda3/envs/urop3.6/lib/python3.6/site-packages/ipykernel_launcher.py:126: FutureWarning: \n",
      "Panel is deprecated and will be removed in a future version.\n",
      "The recommended way to represent these types of 3-dimensional data are with a MultiIndex on a DataFrame, via the Panel.to_frame() method\n",
      "Alternatively, you can use the xarray package http://xarray.pydata.org/en/stable/.\n",
      "Pandas provides a `.to_xarray()` method to help automate this conversion.\n",
      "\n",
      "/home/asus/miniconda3/envs/urop3.6/lib/python3.6/site-packages/pandas/core/panel.py:730: FutureWarning: '.reindex_axis' is deprecated and will be removed in a future version. Use '.reindex' instead.\n",
      "  result = self.reindex_axis(new_ax, axis=axis)\n",
      "/home/asus/miniconda3/envs/urop3.6/lib/python3.6/site-packages/pandas/core/generic.py:3787: FutureWarning: \n",
      "Panel is deprecated and will be removed in a future version.\n",
      "The recommended way to represent these types of 3-dimensional data are with a MultiIndex on a DataFrame, via the Panel.to_frame() method\n",
      "Alternatively, you can use the xarray package http://xarray.pydata.org/en/stable/.\n",
      "Pandas provides a `.to_xarray()` method to help automate this conversion.\n",
      "\n",
      "  fill_value=fill_value, copy=copy)\n",
      "/home/asus/miniconda3/envs/urop3.6/lib/python3.6/site-packages/pandas/core/indexing.py:1147: FutureWarning: \n",
      "Panel is deprecated and will be removed in a future version.\n",
      "The recommended way to represent these types of 3-dimensional data are with a MultiIndex on a DataFrame, via the Panel.to_frame() method\n",
      "Alternatively, you can use the xarray package http://xarray.pydata.org/en/stable/.\n",
      "Pandas provides a `.to_xarray()` method to help automate this conversion.\n",
      "\n",
      "  allow_dups=True)\n"
     ]
    }
   ],
   "source": [
    "env=StockEnv(api_key=API_KEY,instruments=['TCEHY', 'HSBC', 'HSE', 'AIA', 'BOC', 'CNOOC'],\n",
    "             start_date='2015-01-01',re_download=False,commission_fee=0)"
   ]
  },
  {
   "cell_type": "code",
   "execution_count": 9,
   "metadata": {
    "scrolled": true
   },
   "outputs": [],
   "source": [
    "b_dim=env.preprocessed_market_data.shape[0]\n",
    "s_dim=env.preprocessed_market_data.shape[-1]+1"
   ]
  },
  {
   "cell_type": "code",
   "execution_count": 10,
   "metadata": {},
   "outputs": [],
   "source": [
    "agent=DRLAgent(b_dim=b_dim,s_dim=s_dim,batch_length=64)"
   ]
  },
  {
   "cell_type": "code",
   "execution_count": null,
   "metadata": {},
   "outputs": [],
   "source": [
    "for e in tqdm_notebook(range(10)):\n",
    "    state,done=env.reset()\n",
    "    agent.reset_model()\n",
    "    while not done:\n",
    "        action=agent.trade(state,train=True)\n",
    "        next_state,reward,done=env.step(action=action)\n",
    "        next_log_rr=env.get_meta_state().loc['LOG_RR'].values\n",
    "        agent.save_transition(state=state,diff=next_log_rr)\n",
    "        state=next_state\n",
    "        if env.pointer % 64==0:\n",
    "            agent.train()\n",
    "    pv,pp,pw=env.get_summary()\n",
    "    print(pv.iloc[-1].sum())\n",
    "    total_pv=pv.sum(axis=1)\n",
    "    total_pv.name=str(e)\n",
    "    total_pv.plot(legend=True)\n",
    "    if pv.iloc[-1].sum()> 1000000: break\n",
    "    "
   ]
  },
  {
   "cell_type": "code",
   "execution_count": null,
   "metadata": {},
   "outputs": [],
   "source": [
    "pv,pp,pw=env.get_summary()"
   ]
  },
  {
   "cell_type": "code",
   "execution_count": null,
   "metadata": {},
   "outputs": [],
   "source": [
    "pv.sum(axis=1).plot()\n",
    "plt.title('strategy')"
   ]
  },
  {
   "cell_type": "code",
   "execution_count": null,
   "metadata": {},
   "outputs": [],
   "source": [
    "plt.figure(figsize=(5,10))\n",
    "sns.heatmap(pv)"
   ]
  },
  {
   "cell_type": "code",
   "execution_count": null,
   "metadata": {},
   "outputs": [],
   "source": [
    "_,done=env.reset()\n",
    "weight=np.concatenate((np.ones(len(env.instruments))/len(env.instruments),[0]))\n",
    "while not done:\n",
    "    _,_,done=env.step(action=weight)\n",
    "    weight=env.current_weight"
   ]
  },
  {
   "cell_type": "code",
   "execution_count": null,
   "metadata": {},
   "outputs": [],
   "source": [
    "bpv,bpp,bpw=env.get_summary()"
   ]
  },
  {
   "cell_type": "code",
   "execution_count": null,
   "metadata": {},
   "outputs": [],
   "source": [
    "bpv.sum(axis=1).plot()\n",
    "plt.title('buy and hold')"
   ]
  },
  {
   "cell_type": "code",
   "execution_count": null,
   "metadata": {},
   "outputs": [],
   "source": [
    "pr=pv.sum(axis=1).pct_change()\n",
    "bpr=bpv.sum(axis=1).pct_change()"
   ]
  },
  {
   "cell_type": "code",
   "execution_count": null,
   "metadata": {
    "scrolled": false
   },
   "outputs": [],
   "source": [
    "pf.create_simple_tear_sheet(returns=pr,benchmark_rets=bpr)"
   ]
  },
  {
   "cell_type": "code",
   "execution_count": null,
   "metadata": {
    "scrolled": false
   },
   "outputs": [],
   "source": [
    "pf.create_position_tear_sheet(pr,pw*pv)"
   ]
  },
  {
   "cell_type": "code",
   "execution_count": null,
   "metadata": {
    "scrolled": false
   },
   "outputs": [],
   "source": [
    "pf.create_interesting_times_tear_sheet(returns=pr,benchmark_rets=bpr)"
   ]
  },
  {
   "cell_type": "code",
   "execution_count": null,
   "metadata": {},
   "outputs": [],
   "source": []
  },
  {
   "cell_type": "code",
   "execution_count": null,
   "metadata": {},
   "outputs": [],
   "source": []
  }
 ],
 "metadata": {
  "kernelspec": {
   "display_name": "Python 3",
   "language": "python",
   "name": "python3"
  },
  "language_info": {
   "codemirror_mode": {
    "name": "ipython",
    "version": 3
   },
   "file_extension": ".py",
   "mimetype": "text/x-python",
   "name": "python",
   "nbconvert_exporter": "python",
   "pygments_lexer": "ipython3",
   "version": "3.6.6"
  },
  "toc": {
   "nav_menu": {},
   "number_sections": true,
   "sideBar": true,
   "skip_h1_title": false,
   "toc_cell": false,
   "toc_position": {},
   "toc_section_display": "block",
   "toc_window_display": false
  },
  "widgets": {
   "application/vnd.jupyter.widget-state+json": {
    "state": {
     "02dc63d7b16c4b86a972c1391c143457": {
      "model_module": "@jupyter-widgets/controls",
      "model_module_version": "1.0.0",
      "model_name": "HBoxModel",
      "state": {
       "children": [
        "IPY_MODEL_e3914e7ecb7e40caa1ff03907f708f4e",
        "IPY_MODEL_390138f6c03641b0b4ef197479a0696c"
       ],
       "layout": "IPY_MODEL_3a717f1b0b424fb1b6f2c6712c02f20d"
      }
     },
     "0f8b46576dbf457baaee0c09b25b51bd": {
      "model_module": "@jupyter-widgets/base",
      "model_module_version": "1.0.0",
      "model_name": "LayoutModel",
      "state": {}
     },
     "19071b2635644ee697ec7fa01cfb6a63": {
      "model_module": "@jupyter-widgets/controls",
      "model_module_version": "1.0.0",
      "model_name": "IntProgressModel",
      "state": {
       "bar_style": "danger",
       "layout": "IPY_MODEL_41a1ed3953ba46558522f962796cc357",
       "max": 10,
       "style": "IPY_MODEL_a10fa46d1bbc4dc99213d833a82dd3d7"
      }
     },
     "1b49e3e3988a48ba831c3bdbe431ba2a": {
      "model_module": "@jupyter-widgets/controls",
      "model_module_version": "1.0.0",
      "model_name": "HBoxModel",
      "state": {
       "children": [
        "IPY_MODEL_fb82970841f34eb4a1b2e596c385b961",
        "IPY_MODEL_9c87d651527a48d9b9e8255ff13150a4"
       ],
       "layout": "IPY_MODEL_0f8b46576dbf457baaee0c09b25b51bd"
      }
     },
     "259d435a1556466aa46b84c7e2c4cf67": {
      "model_module": "@jupyter-widgets/controls",
      "model_module_version": "1.0.0",
      "model_name": "DescriptionStyleModel",
      "state": {
       "description_width": ""
      }
     },
     "29e6cab2f1df4d2381e5399abf2a6b96": {
      "model_module": "@jupyter-widgets/base",
      "model_module_version": "1.0.0",
      "model_name": "LayoutModel",
      "state": {}
     },
     "2e0ffd150c1d45d9af1e0a222f9cab04": {
      "model_module": "@jupyter-widgets/base",
      "model_module_version": "1.0.0",
      "model_name": "LayoutModel",
      "state": {}
     },
     "31b8389bc3c24276949edffa5a84e191": {
      "model_module": "@jupyter-widgets/base",
      "model_module_version": "1.0.0",
      "model_name": "LayoutModel",
      "state": {}
     },
     "3597487215904a158234f248b68c5f4e": {
      "model_module": "@jupyter-widgets/controls",
      "model_module_version": "1.0.0",
      "model_name": "HTMLModel",
      "state": {
       "layout": "IPY_MODEL_d28f10978b4e4858a9d6dd2003ac43b3",
       "style": "IPY_MODEL_c78977d8896740f0aac8254f418c8055",
       "value": "100% 10/10 [02:36&lt;00:00, 15.62s/it]"
      }
     },
     "3636ebc538c34ca2b56a62351ff2945c": {
      "model_module": "@jupyter-widgets/controls",
      "model_module_version": "1.0.0",
      "model_name": "DescriptionStyleModel",
      "state": {
       "description_width": ""
      }
     },
     "390138f6c03641b0b4ef197479a0696c": {
      "model_module": "@jupyter-widgets/controls",
      "model_module_version": "1.0.0",
      "model_name": "HTMLModel",
      "state": {
       "layout": "IPY_MODEL_f91ffd5998904ae88bdef760fb77ef56",
       "style": "IPY_MODEL_7fd23d0e8af543639b66a1f1b20e9b8b",
       "value": "100% 10/10 [02:31&lt;00:00, 15.19s/it]"
      }
     },
     "396f0db695cf4e14a08e042257a2c086": {
      "model_module": "@jupyter-widgets/controls",
      "model_module_version": "1.0.0",
      "model_name": "IntProgressModel",
      "state": {
       "bar_style": "danger",
       "layout": "IPY_MODEL_9a564185ad6347f080e890aa8c234d61",
       "max": 10,
       "style": "IPY_MODEL_3ddf51d6ca2e49ee99734bdef68ba3c3",
       "value": 4
      }
     },
     "3a717f1b0b424fb1b6f2c6712c02f20d": {
      "model_module": "@jupyter-widgets/base",
      "model_module_version": "1.0.0",
      "model_name": "LayoutModel",
      "state": {}
     },
     "3ddf51d6ca2e49ee99734bdef68ba3c3": {
      "model_module": "@jupyter-widgets/controls",
      "model_module_version": "1.0.0",
      "model_name": "ProgressStyleModel",
      "state": {
       "description_width": ""
      }
     },
     "41a1ed3953ba46558522f962796cc357": {
      "model_module": "@jupyter-widgets/base",
      "model_module_version": "1.0.0",
      "model_name": "LayoutModel",
      "state": {}
     },
     "4425cb683171444aa675ad8957918e1e": {
      "model_module": "@jupyter-widgets/base",
      "model_module_version": "1.0.0",
      "model_name": "LayoutModel",
      "state": {}
     },
     "47f8427a77674de699e769f156bfaadc": {
      "model_module": "@jupyter-widgets/controls",
      "model_module_version": "1.0.0",
      "model_name": "ProgressStyleModel",
      "state": {
       "description_width": ""
      }
     },
     "4cdf4434072240aa881ceacbdab3817f": {
      "model_module": "@jupyter-widgets/base",
      "model_module_version": "1.0.0",
      "model_name": "LayoutModel",
      "state": {}
     },
     "4eab3ef9ab5c4fc9bcf183e2e1e9ba6d": {
      "model_module": "@jupyter-widgets/controls",
      "model_module_version": "1.0.0",
      "model_name": "IntProgressModel",
      "state": {
       "bar_style": "danger",
       "layout": "IPY_MODEL_b176dbe197764c54a9307f32caf38ff9",
       "max": 10,
       "style": "IPY_MODEL_68591e99ee2b4a959b04945c4ca45c37",
       "value": 4
      }
     },
     "54782b1e83b742988899e0f40cd5de74": {
      "model_module": "@jupyter-widgets/base",
      "model_module_version": "1.0.0",
      "model_name": "LayoutModel",
      "state": {}
     },
     "5cbdac65cdfc4e3f802ab28f1d63df82": {
      "model_module": "@jupyter-widgets/base",
      "model_module_version": "1.0.0",
      "model_name": "LayoutModel",
      "state": {}
     },
     "5f8195086fca4981bcf5e6f7a244a1f8": {
      "model_module": "@jupyter-widgets/controls",
      "model_module_version": "1.0.0",
      "model_name": "HTMLModel",
      "state": {
       "layout": "IPY_MODEL_790d5997b10e4c3e9b213ed76129c86c",
       "style": "IPY_MODEL_259d435a1556466aa46b84c7e2c4cf67",
       "value": "  0% 0/10 [00:00&lt;?, ?it/s]"
      }
     },
     "6200af066ed84127ba1dc45440b50fbb": {
      "model_module": "@jupyter-widgets/controls",
      "model_module_version": "1.0.0",
      "model_name": "IntProgressModel",
      "state": {
       "bar_style": "danger",
       "layout": "IPY_MODEL_c14c9c958de744608c86eff70b9b24b3",
       "max": 10,
       "style": "IPY_MODEL_8f3b788cecc141b698c9d6b699233a1a"
      }
     },
     "63b71294368e4588b7288d4746f00773": {
      "model_module": "@jupyter-widgets/base",
      "model_module_version": "1.0.0",
      "model_name": "LayoutModel",
      "state": {}
     },
     "68591e99ee2b4a959b04945c4ca45c37": {
      "model_module": "@jupyter-widgets/controls",
      "model_module_version": "1.0.0",
      "model_name": "ProgressStyleModel",
      "state": {
       "description_width": ""
      }
     },
     "6a4a29ed03d543bcb559ec9bfda36fc4": {
      "model_module": "@jupyter-widgets/base",
      "model_module_version": "1.0.0",
      "model_name": "LayoutModel",
      "state": {}
     },
     "77d7b5466d9a4bfdbe9254299299fd11": {
      "model_module": "@jupyter-widgets/controls",
      "model_module_version": "1.0.0",
      "model_name": "HTMLModel",
      "state": {
       "layout": "IPY_MODEL_31b8389bc3c24276949edffa5a84e191",
       "style": "IPY_MODEL_f17ed4a5f9194692a8b1a78982eff104",
       "value": "  0% 0/10 [00:00&lt;?, ?it/s]"
      }
     },
     "790d5997b10e4c3e9b213ed76129c86c": {
      "model_module": "@jupyter-widgets/base",
      "model_module_version": "1.0.0",
      "model_name": "LayoutModel",
      "state": {}
     },
     "7fd23d0e8af543639b66a1f1b20e9b8b": {
      "model_module": "@jupyter-widgets/controls",
      "model_module_version": "1.0.0",
      "model_name": "DescriptionStyleModel",
      "state": {
       "description_width": ""
      }
     },
     "812ecfdaef034d109f2abca476509dbf": {
      "model_module": "@jupyter-widgets/controls",
      "model_module_version": "1.0.0",
      "model_name": "HTMLModel",
      "state": {
       "layout": "IPY_MODEL_4425cb683171444aa675ad8957918e1e",
       "style": "IPY_MODEL_992fe4c729fb4405bb15eddd6718218f",
       "value": " 20% 2/10 [00:35&lt;02:21, 17.69s/it]"
      }
     },
     "8f3b788cecc141b698c9d6b699233a1a": {
      "model_module": "@jupyter-widgets/controls",
      "model_module_version": "1.0.0",
      "model_name": "ProgressStyleModel",
      "state": {
       "description_width": ""
      }
     },
     "992fe4c729fb4405bb15eddd6718218f": {
      "model_module": "@jupyter-widgets/controls",
      "model_module_version": "1.0.0",
      "model_name": "DescriptionStyleModel",
      "state": {
       "description_width": ""
      }
     },
     "9a564185ad6347f080e890aa8c234d61": {
      "model_module": "@jupyter-widgets/base",
      "model_module_version": "1.0.0",
      "model_name": "LayoutModel",
      "state": {}
     },
     "9ba117a21a5f4c70bc12f9c517e95fec": {
      "model_module": "@jupyter-widgets/base",
      "model_module_version": "1.0.0",
      "model_name": "LayoutModel",
      "state": {}
     },
     "9c87d651527a48d9b9e8255ff13150a4": {
      "model_module": "@jupyter-widgets/controls",
      "model_module_version": "1.0.0",
      "model_name": "HTMLModel",
      "state": {
       "layout": "IPY_MODEL_9ba117a21a5f4c70bc12f9c517e95fec",
       "style": "IPY_MODEL_eb8c360920fc4e389d3eab7842997430",
       "value": "100% 10/10 [02:34&lt;00:00, 15.42s/it]"
      }
     },
     "9e2b51a322b44ee69c79687439e26bc8": {
      "model_module": "@jupyter-widgets/controls",
      "model_module_version": "1.0.0",
      "model_name": "IntProgressModel",
      "state": {
       "bar_style": "danger",
       "layout": "IPY_MODEL_2e0ffd150c1d45d9af1e0a222f9cab04",
       "max": 10,
       "style": "IPY_MODEL_c487924f7ae1422c803cf9210180a0af",
       "value": 2
      }
     },
     "a10fa46d1bbc4dc99213d833a82dd3d7": {
      "model_module": "@jupyter-widgets/controls",
      "model_module_version": "1.0.0",
      "model_name": "ProgressStyleModel",
      "state": {
       "description_width": ""
      }
     },
     "a149bb510333423d85a8155816832af2": {
      "model_module": "@jupyter-widgets/controls",
      "model_module_version": "1.0.0",
      "model_name": "DescriptionStyleModel",
      "state": {
       "description_width": ""
      }
     },
     "a22bd6cc4a9d4520b120a70699ec0062": {
      "model_module": "@jupyter-widgets/base",
      "model_module_version": "1.0.0",
      "model_name": "LayoutModel",
      "state": {}
     },
     "a40bb801418947d58374622819463007": {
      "model_module": "@jupyter-widgets/controls",
      "model_module_version": "1.0.0",
      "model_name": "HTMLModel",
      "state": {
       "layout": "IPY_MODEL_4cdf4434072240aa881ceacbdab3817f",
       "style": "IPY_MODEL_3636ebc538c34ca2b56a62351ff2945c",
       "value": " 40% 4/10 [01:10&lt;01:45, 17.51s/it]"
      }
     },
     "ab979ce0959d43869b2dad2ec6e0e4e8": {
      "model_module": "@jupyter-widgets/controls",
      "model_module_version": "1.0.0",
      "model_name": "HBoxModel",
      "state": {
       "children": [
        "IPY_MODEL_6200af066ed84127ba1dc45440b50fbb",
        "IPY_MODEL_77d7b5466d9a4bfdbe9254299299fd11"
       ],
       "layout": "IPY_MODEL_f53dce5170944d1a8268673a2ed80a3d"
      }
     },
     "b176dbe197764c54a9307f32caf38ff9": {
      "model_module": "@jupyter-widgets/base",
      "model_module_version": "1.0.0",
      "model_name": "LayoutModel",
      "state": {}
     },
     "b9cc0fa8ace54790b65b4c80c7c5becb": {
      "model_module": "@jupyter-widgets/controls",
      "model_module_version": "1.0.0",
      "model_name": "ProgressStyleModel",
      "state": {
       "description_width": ""
      }
     },
     "bf87c813d63a4929badd9b0e6d952668": {
      "model_module": "@jupyter-widgets/base",
      "model_module_version": "1.0.0",
      "model_name": "LayoutModel",
      "state": {}
     },
     "c14c9c958de744608c86eff70b9b24b3": {
      "model_module": "@jupyter-widgets/base",
      "model_module_version": "1.0.0",
      "model_name": "LayoutModel",
      "state": {}
     },
     "c487924f7ae1422c803cf9210180a0af": {
      "model_module": "@jupyter-widgets/controls",
      "model_module_version": "1.0.0",
      "model_name": "ProgressStyleModel",
      "state": {
       "description_width": ""
      }
     },
     "c78977d8896740f0aac8254f418c8055": {
      "model_module": "@jupyter-widgets/controls",
      "model_module_version": "1.0.0",
      "model_name": "DescriptionStyleModel",
      "state": {
       "description_width": ""
      }
     },
     "cd7b145bf0de496e890be8654824cd5a": {
      "model_module": "@jupyter-widgets/base",
      "model_module_version": "1.0.0",
      "model_name": "LayoutModel",
      "state": {}
     },
     "d28f10978b4e4858a9d6dd2003ac43b3": {
      "model_module": "@jupyter-widgets/base",
      "model_module_version": "1.0.0",
      "model_name": "LayoutModel",
      "state": {}
     },
     "d6237ce216e54851bf84effc5a0d5174": {
      "model_module": "@jupyter-widgets/controls",
      "model_module_version": "1.0.0",
      "model_name": "ProgressStyleModel",
      "state": {
       "description_width": ""
      }
     },
     "db5ad5cb3b784c05b730d015beaa3641": {
      "model_module": "@jupyter-widgets/base",
      "model_module_version": "1.0.0",
      "model_name": "LayoutModel",
      "state": {}
     },
     "dcc75ef270fa470bbd286cba4d1eab24": {
      "model_module": "@jupyter-widgets/controls",
      "model_module_version": "1.0.0",
      "model_name": "IntProgressModel",
      "state": {
       "bar_style": "success",
       "layout": "IPY_MODEL_54782b1e83b742988899e0f40cd5de74",
       "max": 10,
       "style": "IPY_MODEL_47f8427a77674de699e769f156bfaadc",
       "value": 10
      }
     },
     "e192f31099ec46be9daa447e3cb3459b": {
      "model_module": "@jupyter-widgets/controls",
      "model_module_version": "1.0.0",
      "model_name": "HBoxModel",
      "state": {
       "children": [
        "IPY_MODEL_396f0db695cf4e14a08e042257a2c086",
        "IPY_MODEL_a40bb801418947d58374622819463007"
       ],
       "layout": "IPY_MODEL_5cbdac65cdfc4e3f802ab28f1d63df82"
      }
     },
     "e3914e7ecb7e40caa1ff03907f708f4e": {
      "model_module": "@jupyter-widgets/controls",
      "model_module_version": "1.0.0",
      "model_name": "IntProgressModel",
      "state": {
       "bar_style": "success",
       "layout": "IPY_MODEL_a22bd6cc4a9d4520b120a70699ec0062",
       "max": 10,
       "style": "IPY_MODEL_d6237ce216e54851bf84effc5a0d5174",
       "value": 10
      }
     },
     "e72ccf5c31d44c14954d60de96bbccf7": {
      "model_module": "@jupyter-widgets/controls",
      "model_module_version": "1.0.0",
      "model_name": "HTMLModel",
      "state": {
       "layout": "IPY_MODEL_bf87c813d63a4929badd9b0e6d952668",
       "style": "IPY_MODEL_a149bb510333423d85a8155816832af2",
       "value": " 40% 4/10 [01:11&lt;01:46, 17.80s/it]"
      }
     },
     "e965c3e0aa5048658cc8e3fcc3667d3c": {
      "model_module": "@jupyter-widgets/controls",
      "model_module_version": "1.0.0",
      "model_name": "HBoxModel",
      "state": {
       "children": [
        "IPY_MODEL_dcc75ef270fa470bbd286cba4d1eab24",
        "IPY_MODEL_3597487215904a158234f248b68c5f4e"
       ],
       "layout": "IPY_MODEL_cd7b145bf0de496e890be8654824cd5a"
      }
     },
     "eb8c360920fc4e389d3eab7842997430": {
      "model_module": "@jupyter-widgets/controls",
      "model_module_version": "1.0.0",
      "model_name": "DescriptionStyleModel",
      "state": {
       "description_width": ""
      }
     },
     "f17ed4a5f9194692a8b1a78982eff104": {
      "model_module": "@jupyter-widgets/controls",
      "model_module_version": "1.0.0",
      "model_name": "DescriptionStyleModel",
      "state": {
       "description_width": ""
      }
     },
     "f53dce5170944d1a8268673a2ed80a3d": {
      "model_module": "@jupyter-widgets/base",
      "model_module_version": "1.0.0",
      "model_name": "LayoutModel",
      "state": {}
     },
     "f8ba6c9cc68c44bf9a20f08c40992542": {
      "model_module": "@jupyter-widgets/controls",
      "model_module_version": "1.0.0",
      "model_name": "HBoxModel",
      "state": {
       "children": [
        "IPY_MODEL_4eab3ef9ab5c4fc9bcf183e2e1e9ba6d",
        "IPY_MODEL_e72ccf5c31d44c14954d60de96bbccf7"
       ],
       "layout": "IPY_MODEL_db5ad5cb3b784c05b730d015beaa3641"
      }
     },
     "f90fada6bee54cbd9d6ac9fe57c0e7bf": {
      "model_module": "@jupyter-widgets/controls",
      "model_module_version": "1.0.0",
      "model_name": "HBoxModel",
      "state": {
       "children": [
        "IPY_MODEL_19071b2635644ee697ec7fa01cfb6a63",
        "IPY_MODEL_5f8195086fca4981bcf5e6f7a244a1f8"
       ],
       "layout": "IPY_MODEL_63b71294368e4588b7288d4746f00773"
      }
     },
     "f91ffd5998904ae88bdef760fb77ef56": {
      "model_module": "@jupyter-widgets/base",
      "model_module_version": "1.0.0",
      "model_name": "LayoutModel",
      "state": {}
     },
     "f934214e9b824d4bb84a2e5d0a1cea4e": {
      "model_module": "@jupyter-widgets/controls",
      "model_module_version": "1.0.0",
      "model_name": "HBoxModel",
      "state": {
       "children": [
        "IPY_MODEL_9e2b51a322b44ee69c79687439e26bc8",
        "IPY_MODEL_812ecfdaef034d109f2abca476509dbf"
       ],
       "layout": "IPY_MODEL_6a4a29ed03d543bcb559ec9bfda36fc4"
      }
     },
     "fb82970841f34eb4a1b2e596c385b961": {
      "model_module": "@jupyter-widgets/controls",
      "model_module_version": "1.0.0",
      "model_name": "IntProgressModel",
      "state": {
       "bar_style": "success",
       "layout": "IPY_MODEL_29e6cab2f1df4d2381e5399abf2a6b96",
       "max": 10,
       "style": "IPY_MODEL_b9cc0fa8ace54790b65b4c80c7c5becb",
       "value": 10
      }
     }
    },
    "version_major": 2,
    "version_minor": 0
   }
  }
 },
 "nbformat": 4,
 "nbformat_minor": 2
}
