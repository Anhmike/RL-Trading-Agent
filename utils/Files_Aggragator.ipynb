{
 "cells": [
  {
   "cell_type": "code",
   "execution_count": 41,
   "metadata": {},
   "outputs": [],
   "source": [
    "import pandas as pd\n",
    "import pickle"
   ]
  },
  {
   "cell_type": "code",
   "execution_count": 42,
   "metadata": {},
   "outputs": [],
   "source": [
    "def parser(x):\n",
    "    try:\n",
    "        try:\n",
    "            return pd.datetime.strptime(x, '%Y-%m-%d %H:%M')\n",
    "        except: \n",
    "            return pd.datetime.strptime(x, '%Y-%m-%d %H:%M:%S')\n",
    "    except:\n",
    "        return pd.datetime.strptime(x, '%Y/%m/%d %H:%M')"
   ]
  },
  {
   "cell_type": "code",
   "execution_count": 71,
   "metadata": {},
   "outputs": [],
   "source": [
    "cols=[0,1,2,3,4,5]\n",
    "# tickers = [\"0005\", \"0011\", \"1299\", \"3988\", \"0883\"]\n",
    "# companyCode = ['HSBC', 'HSE', 'AIA', 'BOC', 'CNOOC']\n",
    "tickers = ['0011', '3988', '1299']\n",
    "companyCode=['HSE', 'BOC', 'AIA']\n",
    "# {'TCEHY': d_0700, 'CNOOC': d_0883, 'HSBC': d_0005, 'HSE': d_0011, 'AIA': d_1299, 'BOC': d_3988}"
   ]
  },
  {
   "cell_type": "code",
   "execution_count": 72,
   "metadata": {},
   "outputs": [
    {
     "name": "stdout",
     "output_type": "stream",
     "text": [
      "Getting stock HK 0011  ...\n",
      "Getting stock HK 3988  ...\n",
      "Getting stock HK 1299  ...\n",
      "Data retrieval done\n",
      "                     adj_open  adj_close  adj_high  adj_low  adj_volume\n",
      "Date                                                                   \n",
      "2015-01-02 09:21:00     129.1      129.1     129.1    129.1        6000\n",
      "2015-01-02 09:31:00     129.1      129.1     129.2    129.0        3610\n",
      "2015-01-02 09:32:00     129.2      129.2     129.2    129.2         100\n",
      "2015-01-02 09:33:00     129.2      129.2     129.2    129.2         300\n",
      "2015-01-02 09:34:00     129.2      129.0     129.2    129.0        2600\n",
      "                     adj_open  adj_close  adj_high  adj_low  adj_volume\n",
      "Date                                                                   \n",
      "2017-12-29 15:56:00     194.1      194.2     194.1    194.2          51\n",
      "2017-12-29 15:57:00     194.1      194.2     194.1    194.2          31\n",
      "2017-12-29 15:58:00     194.1      194.2     194.1    194.2          41\n",
      "2017-12-29 15:59:00     194.1      194.2     194.1    194.2          50\n",
      "2017-12-29 16:00:00     194.2      194.0     194.0    194.2         723\n"
     ]
    }
   ],
   "source": [
    "market_data = []\n",
    "for ticker in tickers:\n",
    "    print(\"Getting stock HK\", ticker, \" ...\")\n",
    "    stock_data = pd.read_csv(\"./Processed/HK\"+ticker+\"_cleaned.csv\", usecols=cols, index_col=[0], parse_dates=[0], \n",
    "                             date_parser=parser)\n",
    "    stock_data = stock_data.rename(index=str, columns={\"Open\": \"adj_open\", \"Close\": \"adj_close\",\"High\": \"adj_high\",\n",
    "                                                       \"Low\": \"adj_low\", \"Volume\": \"adj_volume\"})\n",
    "    cols_ = stock_data.columns.tolist()\n",
    "    market_data.append(stock_data[[cols_[0], cols_[3], cols_[2], cols_[1], cols_[4]]])\n",
    "print('Data retrieval done')\n",
    "\n",
    "# sanity check\n",
    "df=market_data[0]\n",
    "print(df.head(5))\n",
    "print(df.tail(5))"
   ]
  },
  {
   "cell_type": "code",
   "execution_count": 73,
   "metadata": {
    "scrolled": true
   },
   "outputs": [
    {
     "name": "stdout",
     "output_type": "stream",
     "text": [
      "<class 'pandas.core.panel.Panel'>\n",
      "Dimensions: 3 (items) x 234429 (major_axis) x 5 (minor_axis)\n",
      "Items axis: HSE to AIA\n",
      "Major_axis axis: 2015-01-02 09:21:00 to 2017-12-29 16:00:00\n",
      "Minor_axis axis: adj_open to adj_volume\n",
      "Index(['HSE', 'BOC', 'AIA'], dtype='object')\n"
     ]
    }
   ],
   "source": [
    "data = {code: data_ for code, data_ in zip(companyCode, market_data)}\n",
    "\n",
    "data = pd.core.panel.Panel(data)\n",
    "print(data)\n",
    "print(data.items)"
   ]
  },
  {
   "cell_type": "code",
   "execution_count": 76,
   "metadata": {},
   "outputs": [],
   "source": [
    "data_path = \"./Processed/\"\n",
    "data_name = \"market_data_HSE_BOC_AIA.pkl\""
   ]
  },
  {
   "cell_type": "code",
   "execution_count": 77,
   "metadata": {},
   "outputs": [
    {
     "name": "stdout",
     "output_type": "stream",
     "text": [
      "<class 'pandas.core.panel.Panel'>\n",
      "Dimensions: 3 (items) x 234429 (major_axis) x 5 (minor_axis)\n",
      "Items axis: HSE to AIA\n",
      "Major_axis axis: 2015-01-02 09:21:00 to 2017-12-29 16:00:00\n",
      "Minor_axis axis: adj_open to adj_volume\n",
      "Index(['HSE', 'BOC', 'AIA'], dtype='object')\n"
     ]
    }
   ],
   "source": [
    "data.to_pickle(data_path+data_name)\n",
    "\n",
    "#sanity check\n",
    "with open(data_path+data_name, \"rb\") as input:\n",
    "    mdata = pickle.load(input)\n",
    "print(mdata)\n",
    "print(mdata.items)"
   ]
  }
 ],
 "metadata": {
  "kernelspec": {
   "display_name": "Python 3",
   "language": "python",
   "name": "python3"
  },
  "language_info": {
   "codemirror_mode": {
    "name": "ipython",
    "version": 3
   },
   "file_extension": ".py",
   "mimetype": "text/x-python",
   "name": "python",
   "nbconvert_exporter": "python",
   "pygments_lexer": "ipython3",
   "version": "3.6.6"
  }
 },
 "nbformat": 4,
 "nbformat_minor": 2
}
